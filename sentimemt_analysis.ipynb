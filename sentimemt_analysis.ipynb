{
  "cells": [
    {
      "cell_type": "code",
      "execution_count": 3,
      "id": "a4f948d7",
      "metadata": {
        "id": "a4f948d7",
        "scrolled": true
      },
      "outputs": [],
      "source": [
        "import transformers\n",
        "\n",
        "# Set to avoid warning messages.\n",
        "transformers.logging.set_verbosity_error()"
      ]
    },
    {
      "cell_type": "markdown",
      "id": "80eca074",
      "metadata": {
        "id": "80eca074"
      },
      "source": [
        "## Loading Model & Dataset from Hugging Face"
      ]
    },
    {
      "cell_type": "code",
      "execution_count": 4,
      "id": "18a6b809",
      "metadata": {
        "colab": {
          "base_uri": "https://localhost:8080/"
        },
        "id": "18a6b809",
        "outputId": "adde8bbc-732c-4231-d08e-ae0f0d46e717"
      },
      "outputs": [
        {
          "output_type": "stream",
          "name": "stdout",
          "text": [
            "DatasetDict({\n",
            "    train: Dataset({\n",
            "        features: ['id', 'verse_text', 'label'],\n",
            "        num_rows: 892\n",
            "    })\n",
            "    validation: Dataset({\n",
            "        features: ['id', 'verse_text', 'label'],\n",
            "        num_rows: 105\n",
            "    })\n",
            "    test: Dataset({\n",
            "        features: ['id', 'verse_text', 'label'],\n",
            "        num_rows: 104\n",
            "    })\n",
            "})\n",
            "{'id': [20, 21, 22, 23, 24], 'verse_text': [\"as o'er the earth it wanders wide,\", 'how hearts were answering to his own,', 'glad on its stone-built hearth; and thorough the wide-mouthed smoke-flue', 'sees the clouds reel and roll above our head,', '’tis to behold his vengeance for my son.'], 'label': [2, 1, 2, 2, 0]}\n",
            "\n",
            "Sentiment Labels used ['negative', 'positive', 'no_impact', 'mixed']\n"
          ]
        }
      ],
      "source": [
        "from datasets import load_dataset\n",
        "\n",
        "# Pretrained model from Huggingface\n",
        "model_name = \"distilbert-base-uncased\"\n",
        "\n",
        "# Dataset from HuggingFace\n",
        "poem_sentiments = load_dataset(\"poem_sentiment\")\n",
        "\n",
        "# The Data is stored in Apache Arrow format\n",
        "print(poem_sentiments)\n",
        "print(poem_sentiments[\"test\"][20:25])\n",
        "\n",
        "print(\"\\nSentiment Labels used\",\n",
        "      poem_sentiments[\"train\"].features.get(\"label\").names)"
      ]
    },
    {
      "cell_type": "markdown",
      "id": "54018a23",
      "metadata": {
        "id": "54018a23"
      },
      "source": [
        "## Encoding and pre-processing the dataset"
      ]
    },
    {
      "cell_type": "code",
      "execution_count": 5,
      "id": "eb057a9e",
      "metadata": {
        "colab": {
          "base_uri": "https://localhost:8080/"
        },
        "id": "eb057a9e",
        "outputId": "b3d8b529-eb0e-4e88-acd5-4d48870993d7",
        "scrolled": true
      },
      "outputs": [
        {
          "output_type": "stream",
          "name": "stdout",
          "text": [
            "{'id': [0, 1, 2, 3, 4], 'verse_text': ['with pale blue berries. in these peaceful shades--', 'it flows so long as falls the rain,', 'and that is why, the lonesome day,', 'when i peruse the conquered fame of heroes, and the victories of mighty generals, i do not envy the generals,', 'of inward strife for truth and liberty.'], 'label': [1, 2, 0, 3, 3], 'input_ids': [[101, 2007, 5122, 2630, 22681, 1012, 1999, 2122, 9379, 13178, 1011, 1011, 102, 0, 0, 0, 0, 0, 0, 0, 0, 0, 0, 0, 0, 0, 0, 0], [101, 2009, 6223, 2061, 2146, 2004, 4212, 1996, 4542, 1010, 102, 0, 0, 0, 0, 0, 0, 0, 0, 0, 0, 0, 0, 0, 0, 0, 0, 0], [101, 1998, 2008, 2003, 2339, 1010, 1996, 10459, 14045, 2154, 1010, 102, 0, 0, 0, 0, 0, 0, 0, 0, 0, 0, 0, 0, 0, 0, 0, 0], [101, 2043, 1045, 7304, 3366, 1996, 11438, 4476, 1997, 7348, 1010, 1998, 1996, 9248, 1997, 10478, 11593, 1010, 1045, 2079, 2025, 21103, 1996, 11593, 1010, 102, 0, 0], [101, 1997, 20546, 27865, 2005, 3606, 1998, 7044, 1012, 102, 0, 0, 0, 0, 0, 0, 0, 0, 0, 0, 0, 0, 0, 0, 0, 0, 0, 0]], 'attention_mask': [[1, 1, 1, 1, 1, 1, 1, 1, 1, 1, 1, 1, 1, 0, 0, 0, 0, 0, 0, 0, 0, 0, 0, 0, 0, 0, 0, 0], [1, 1, 1, 1, 1, 1, 1, 1, 1, 1, 1, 0, 0, 0, 0, 0, 0, 0, 0, 0, 0, 0, 0, 0, 0, 0, 0, 0], [1, 1, 1, 1, 1, 1, 1, 1, 1, 1, 1, 1, 0, 0, 0, 0, 0, 0, 0, 0, 0, 0, 0, 0, 0, 0, 0, 0], [1, 1, 1, 1, 1, 1, 1, 1, 1, 1, 1, 1, 1, 1, 1, 1, 1, 1, 1, 1, 1, 1, 1, 1, 1, 1, 0, 0], [1, 1, 1, 1, 1, 1, 1, 1, 1, 1, 0, 0, 0, 0, 0, 0, 0, 0, 0, 0, 0, 0, 0, 0, 0, 0, 0, 0]]}\n"
          ]
        }
      ],
      "source": [
        "# Encoding text from the Dataset\n",
        "\n",
        "from transformers import DistilBertTokenizer\n",
        "\n",
        "tokenizer = DistilBertTokenizer.from_pretrained(model_name)\n",
        "\n",
        "def tokenize(batch):\n",
        "    return tokenizer(batch[\"verse_text\"],\n",
        "                        padding = True,\n",
        "                        truncation = True)\n",
        "\n",
        "enc_poem_sentiments = poem_sentiments.map(\n",
        "                        tokenize,\n",
        "                        batched = True,\n",
        "                        batch_size = None)\n",
        "\n",
        "print(enc_poem_sentiments[\"train\"][0:5])"
      ]
    },
    {
      "cell_type": "code",
      "execution_count": 6,
      "id": "5775b7cd",
      "metadata": {
        "colab": {
          "base_uri": "https://localhost:8080/"
        },
        "id": "5775b7cd",
        "outputId": "5bbbaa5f-dab3-4ade-be66-6a6103cab7ea",
        "scrolled": true
      },
      "outputs": [
        {
          "output_type": "stream",
          "name": "stdout",
          "text": [
            "Text : it flows so long as falls the rain,\n",
            "\n",
            "Input Map : [101, 2009, 6223, 2061, 2146, 2004, 4212, 1996, 4542, 1010, 102, 0, 0, 0, 0, 0, 0, 0, 0, 0, 0, 0, 0, 0, 0, 0, 0, 0]\n",
            "\n",
            "Attention Mask : [1, 1, 1, 1, 1, 1, 1, 1, 1, 1, 1, 0, 0, 0, 0, 0, 0, 0, 0, 0, 0, 0, 0, 0, 0, 0, 0, 0]\n",
            "\n",
            "Total tokens:  28\n",
            "Non Zero tokens:  11\n",
            "Attention = 1:  11\n"
          ]
        }
      ],
      "source": [
        "# Exploring the data\n",
        "\n",
        "print(\"Text :\",\n",
        "      enc_poem_sentiments[\"train\"][1].get(\"verse_text\"))\n",
        "print(\"\\nInput Map :\",\n",
        "      enc_poem_sentiments[\"train\"][1].get(\"input_ids\"))\n",
        "print(\"\\nAttention Mask :\",\n",
        "      enc_poem_sentiments[\"train\"][1].get(\"attention_mask\"))\n",
        "\n",
        "print(\"\\nTotal tokens: \",\n",
        "      len(enc_poem_sentiments[\"train\"][1].get(\"input_ids\")))\n",
        "print(\"Non Zero tokens: \",\n",
        "      len(list(filter(\n",
        "        lambda x :x > 0,\n",
        "          enc_poem_sentiments[\"train\"][1].get(\"input_ids\")))))\n",
        "print(\"Attention = 1: \",\n",
        "      len(list(filter(\n",
        "        lambda x :x > 0,\n",
        "          enc_poem_sentiments[\"train\"][1].get(\"attention_mask\")))))"
      ]
    },
    {
      "cell_type": "code",
      "execution_count": 7,
      "id": "a4a924c4",
      "metadata": {
        "colab": {
          "base_uri": "https://localhost:8080/"
        },
        "id": "a4a924c4",
        "outputId": "2d415dad-6997-45a1-ad71-8af7c1f6b993"
      },
      "outputs": [
        {
          "output_type": "stream",
          "name": "stdout",
          "text": [
            "\n",
            "Column Names :  ['id', 'verse_text', 'label', 'input_ids', 'attention_mask']\n",
            "\n",
            "Features :  {'id': Value(dtype='int32', id=None), 'verse_text': Value(dtype='string', id=None), 'label': ClassLabel(names=['negative', 'positive', 'no_impact', 'mixed'], id=None), 'input_ids': Sequence(feature=Value(dtype='int32', id=None), length=-1, id=None), 'attention_mask': Sequence(feature=Value(dtype='int8', id=None), length=-1, id=None)}\n"
          ]
        }
      ],
      "source": [
        "# Splitting the dataset into training and validation sets\n",
        "\n",
        "training_dataset = enc_poem_sentiments[\"train\"]\n",
        "validation_dataset=enc_poem_sentiments[\"validation\"]\n",
        "\n",
        "print(\"\\nColumn Names : \",training_dataset.column_names)\n",
        "print(\"\\nFeatures : \",training_dataset.features)\n",
        "\n",
        "labels = training_dataset.features.get(\"label\")\n",
        "num_labels=len(labels.names)"
      ]
    },
    {
      "cell_type": "markdown",
      "id": "f3faefe9",
      "metadata": {
        "id": "f3faefe9"
      },
      "source": [
        "## Creating the Model Architecture"
      ]
    },
    {
      "cell_type": "code",
      "execution_count": 8,
      "id": "d2094ee8",
      "metadata": {
        "colab": {
          "base_uri": "https://localhost:8080/",
          "height": 1000,
          "referenced_widgets": [
            "b6d95050821d45e297afc1bc638ab08f",
            "4e68103bd32e42c48375b6b420b35e0e",
            "6345adc5ba344b239b4bd5ef4d8fb568",
            "48892567902644ff93dc4a09865d090a",
            "33a90580759b46978a95d94707715bb3",
            "2d49ad8876df4617835e761e2cbaa3f4",
            "423d2920c2a14d669819157912ffbaa1",
            "d92e732968344cec960a3e98fdafa96f",
            "2ce71a0892c0455591b6dce9135dd414",
            "0132da9962f7473aa4c1f1eddcf969b4",
            "df5c5be664964d5e85f2c6cc6a8cb991"
          ]
        },
        "id": "d2094ee8",
        "outputId": "50f0c268-b5f2-4065-9bff-2dd64a9f8758"
      },
      "outputs": [
        {
          "output_type": "display_data",
          "data": {
            "text/plain": [
              "model.safetensors:   0%|          | 0.00/268M [00:00<?, ?B/s]"
            ],
            "application/vnd.jupyter.widget-view+json": {
              "version_major": 2,
              "version_minor": 0,
              "model_id": "b6d95050821d45e297afc1bc638ab08f"
            }
          },
          "metadata": {}
        },
        {
          "output_type": "execute_result",
          "data": {
            "text/plain": [
              "{'vocab_size': 30522,\n",
              " 'max_position_embeddings': 512,\n",
              " 'sinusoidal_pos_embds': False,\n",
              " 'n_layers': 6,\n",
              " 'n_heads': 12,\n",
              " 'dim': 768,\n",
              " 'hidden_dim': 3072,\n",
              " 'dropout': 0.1,\n",
              " 'attention_dropout': 0.1,\n",
              " 'activation': 'gelu',\n",
              " 'initializer_range': 0.02,\n",
              " 'qa_dropout': 0.1,\n",
              " 'seq_classif_dropout': 0.2,\n",
              " 'return_dict': True,\n",
              " 'output_hidden_states': False,\n",
              " 'output_attentions': False,\n",
              " 'torchscript': False,\n",
              " 'torch_dtype': None,\n",
              " 'use_bfloat16': False,\n",
              " 'tf_legacy_loss': False,\n",
              " 'pruned_heads': {},\n",
              " 'tie_word_embeddings': True,\n",
              " 'is_encoder_decoder': False,\n",
              " 'is_decoder': False,\n",
              " 'cross_attention_hidden_size': None,\n",
              " 'add_cross_attention': False,\n",
              " 'tie_encoder_decoder': False,\n",
              " 'max_length': 20,\n",
              " 'min_length': 0,\n",
              " 'do_sample': False,\n",
              " 'early_stopping': False,\n",
              " 'num_beams': 1,\n",
              " 'num_beam_groups': 1,\n",
              " 'diversity_penalty': 0.0,\n",
              " 'temperature': 1.0,\n",
              " 'top_k': 50,\n",
              " 'top_p': 1.0,\n",
              " 'typical_p': 1.0,\n",
              " 'repetition_penalty': 1.0,\n",
              " 'length_penalty': 1.0,\n",
              " 'no_repeat_ngram_size': 0,\n",
              " 'encoder_no_repeat_ngram_size': 0,\n",
              " 'bad_words_ids': None,\n",
              " 'num_return_sequences': 1,\n",
              " 'chunk_size_feed_forward': 0,\n",
              " 'output_scores': False,\n",
              " 'return_dict_in_generate': False,\n",
              " 'forced_bos_token_id': None,\n",
              " 'forced_eos_token_id': None,\n",
              " 'remove_invalid_values': False,\n",
              " 'exponential_decay_length_penalty': None,\n",
              " 'suppress_tokens': None,\n",
              " 'begin_suppress_tokens': None,\n",
              " 'architectures': ['DistilBertForMaskedLM'],\n",
              " 'finetuning_task': None,\n",
              " 'id2label': {0: 'LABEL_0', 1: 'LABEL_1', 2: 'LABEL_2', 3: 'LABEL_3'},\n",
              " 'label2id': {'LABEL_0': 0, 'LABEL_1': 1, 'LABEL_2': 2, 'LABEL_3': 3},\n",
              " 'tokenizer_class': None,\n",
              " 'prefix': None,\n",
              " 'bos_token_id': None,\n",
              " 'pad_token_id': 0,\n",
              " 'eos_token_id': None,\n",
              " 'sep_token_id': None,\n",
              " 'decoder_start_token_id': None,\n",
              " 'task_specific_params': None,\n",
              " 'problem_type': None,\n",
              " '_name_or_path': 'distilbert-base-uncased',\n",
              " 'transformers_version': '4.35.2',\n",
              " 'model_type': 'distilbert',\n",
              " 'tie_weights_': True}"
            ]
          },
          "metadata": {},
          "execution_count": 8
        }
      ],
      "source": [
        "from transformers import TFAutoModelForSequenceClassification\n",
        "\n",
        "# Loading transformer from HuggingFace\n",
        "sentiment_model = (TFAutoModelForSequenceClassification\n",
        "            .from_pretrained(model_name, num_labels=num_labels))\n",
        "\n",
        "sentiment_model.get_config()"
      ]
    },
    {
      "cell_type": "code",
      "execution_count": 9,
      "id": "f07af1a2",
      "metadata": {
        "colab": {
          "base_uri": "https://localhost:8080/"
        },
        "id": "f07af1a2",
        "outputId": "e4ab0cd5-aa02-4681-937f-ce6580f1239a"
      },
      "outputs": [
        {
          "output_type": "stream",
          "name": "stdout",
          "text": [
            "Model: \"tf_distil_bert_for_sequence_classification\"\n",
            "_________________________________________________________________\n",
            " Layer (type)                Output Shape              Param #   \n",
            "=================================================================\n",
            " distilbert (TFDistilBertMai  multiple                 66362880  \n",
            " nLayer)                                                         \n",
            "                                                                 \n",
            " pre_classifier (Dense)      multiple                  590592    \n",
            "                                                                 \n",
            " classifier (Dense)          multiple                  3076      \n",
            "                                                                 \n",
            " dropout_19 (Dropout)        multiple                  0         \n",
            "                                                                 \n",
            "=================================================================\n",
            "Total params: 66,956,548\n",
            "Trainable params: 66,956,548\n",
            "Non-trainable params: 0\n",
            "_________________________________________________________________\n",
            "None\n"
          ]
        }
      ],
      "source": [
        "# Freeze the first layer if needed\n",
        "sentiment_model.layers[0].trainable = True\n",
        "\n",
        "# Add/remove layers if needed.\n",
        "# sentiment_model.layers [append()/insert()/remove()]\n",
        "\n",
        "print(sentiment_model.summary())"
      ]
    },
    {
      "cell_type": "markdown",
      "id": "575dca13",
      "metadata": {
        "id": "575dca13"
      },
      "source": [
        "# Training the Sentiment Model"
      ]
    },
    {
      "cell_type": "code",
      "execution_count": 10,
      "id": "72bdd464",
      "metadata": {
        "colab": {
          "base_uri": "https://localhost:8080/"
        },
        "id": "72bdd464",
        "outputId": "ab7e7d80-813e-4de7-9547-d17653eef037"
      },
      "outputs": [
        {
          "output_type": "stream",
          "name": "stderr",
          "text": [
            "/usr/local/lib/python3.10/dist-packages/datasets/arrow_dataset.py:399: FutureWarning: The output of `to_tf_dataset` will change when a passing single element list for `labels` or `columns` in the next datasets version. To return a tuple structure rather than dict, pass a single string.\n",
            "Old behaviour: columns=['a'], labels=['labels'] -> (tf.Tensor, tf.Tensor)  \n",
            "             : columns='a', labels='labels' -> (tf.Tensor, tf.Tensor)  \n",
            "New behaviour: columns=['a'],labels=['labels'] -> ({'a': tf.Tensor}, {'labels': tf.Tensor})  \n",
            "             : columns='a', labels='labels' -> (tf.Tensor, tf.Tensor) \n",
            "  warnings.warn(\n"
          ]
        },
        {
          "output_type": "stream",
          "name": "stdout",
          "text": [
            "Epoch 1/5\n",
            "14/14 [==============================] - 128s 7s/step - loss: 1.1623 - sparse_categorical_accuracy: 0.6177 - val_loss: 0.9429 - val_sparse_categorical_accuracy: 0.6571\n",
            "Epoch 2/5\n",
            "14/14 [==============================] - 87s 6s/step - loss: 0.9347 - sparse_categorical_accuracy: 0.6289 - val_loss: 0.6396 - val_sparse_categorical_accuracy: 0.7905\n",
            "Epoch 3/5\n",
            "14/14 [==============================] - 87s 6s/step - loss: 0.5851 - sparse_categorical_accuracy: 0.8161 - val_loss: 0.4811 - val_sparse_categorical_accuracy: 0.8571\n",
            "Epoch 4/5\n",
            "14/14 [==============================] - 86s 6s/step - loss: 0.2963 - sparse_categorical_accuracy: 0.9114 - val_loss: 0.5162 - val_sparse_categorical_accuracy: 0.8571\n",
            "Epoch 5/5\n",
            "14/14 [==============================] - 93s 7s/step - loss: 0.1764 - sparse_categorical_accuracy: 0.9507 - val_loss: 0.6611 - val_sparse_categorical_accuracy: 0.8190\n"
          ]
        },
        {
          "output_type": "execute_result",
          "data": {
            "text/plain": [
              "<keras.callbacks.History at 0x7c1d89920460>"
            ]
          },
          "metadata": {},
          "execution_count": 10
        }
      ],
      "source": [
        "import tensorflow as tf\n",
        "\n",
        "batch_size = 64\n",
        "tokenizer_columns = tokenizer.model_input_names\n",
        "\n",
        "train = training_dataset.to_tf_dataset(\n",
        "    columns = tokenizer_columns, label_cols = [\"label\"], shuffle = True,\n",
        "    batch_size = batch_size)\n",
        "\n",
        "val = validation_dataset.to_tf_dataset(\n",
        "    columns = tokenizer_columns, label_cols = [\"label\"], shuffle = False,\n",
        "    batch_size = batch_size)\n",
        "\n",
        "sentiment_model.compile(\n",
        "    optimizer = tf.keras.optimizers.Adam(learning_rate = 5e-5),\n",
        "    loss = tf.keras.losses.SparseCategoricalCrossentropy(from_logits = True),\n",
        "    metrics = tf.metrics.SparseCategoricalAccuracy())\n",
        "\n",
        "sentiment_model.fit(train,\n",
        "                    validation_data = val,\n",
        "                    epochs = 5)"
      ]
    },
    {
      "cell_type": "markdown",
      "id": "fb86c123",
      "metadata": {
        "id": "fb86c123"
      },
      "source": [
        "## Predicting Sentiment with the Custom Model"
      ]
    },
    {
      "cell_type": "code",
      "execution_count": 15,
      "id": "de686bec",
      "metadata": {
        "colab": {
          "base_uri": "https://localhost:8080/",
          "height": 208,
          "referenced_widgets": [
            "605859ba4ac94aa4a036925367d5b854",
            "aff622249a5148ef8f605ce98a5c4d95",
            "59c795c2a0204151b77bafdf8d1aa58c",
            "81c6b6503bab4e8b9a312a6d4d60f90b",
            "3a393b95795f47209da279af8b6229d7",
            "fd72db64c808493096cb3bd856565a46",
            "fb3f6305fc9e454eb895a6a22427d871",
            "145ea38aba0640dca0850641235f23e8",
            "a108a3b7fea748c98ee79dd69777ec5c",
            "5b1641f13fc140b1aa15d42f021e4135",
            "9ff5eb3d8efd4275955907e05167c301"
          ]
        },
        "id": "de686bec",
        "outputId": "67ed8cbf-7aab-4893-f94e-0bbf38f4a433"
      },
      "outputs": [
        {
          "output_type": "stream",
          "name": "stdout",
          "text": [
            "DatasetDict({\n",
            "    infer: Dataset({\n",
            "        features: ['id', 'verse_text', 'label'],\n",
            "        num_rows: 2\n",
            "    })\n",
            "})\n"
          ]
        },
        {
          "output_type": "display_data",
          "data": {
            "text/plain": [
              "Map:   0%|          | 0/2 [00:00<?, ? examples/s]"
            ],
            "application/vnd.jupyter.widget-view+json": {
              "version_major": 2,
              "version_minor": 0,
              "model_id": "605859ba4ac94aa4a036925367d5b854"
            }
          },
          "metadata": {}
        },
        {
          "output_type": "stream",
          "name": "stdout",
          "text": [
            "<PrefetchDataset element_spec={'input_ids': TensorSpec(shape=(None, 17), dtype=tf.int64, name=None), 'attention_mask': TensorSpec(shape=(None, 17), dtype=tf.int64, name=None)}>\n",
            "1/1 [==============================] - 0s 133ms/step\n"
          ]
        }
      ],
      "source": [
        "from datasets import Dataset, DatasetDict\n",
        "\n",
        "infer_data = {'id':[0,1],\n",
        "             'verse_text':['and be glad in the summer morning when the kindred ride on their way',\n",
        "                           'that sometime they put themself in danger'],\n",
        "             'label':[1,0]}\n",
        "\n",
        "infer_dataset = Dataset.from_dict(infer_data)\n",
        "\n",
        "ds_dict = DatasetDict()\n",
        "ds_dict[\"infer\"] = infer_dataset\n",
        "\n",
        "print(ds_dict)\n",
        "\n",
        "# Encoding the text\n",
        "enc_dataset = ds_dict.map(tokenize, batched = True, batch_size = None)\n",
        "\n",
        "# Converting to Tensors\n",
        "infer_final_dataset = enc_dataset[\"infer\"].to_tf_dataset(\n",
        "    columns = tokenizer_columns,  shuffle = True,\n",
        "    batch_size = batch_size)\n",
        "\n",
        "print(infer_final_dataset)\n",
        "\n",
        "# Prediction\n",
        "predictions = sentiment_model.predict(infer_final_dataset)"
      ]
    },
    {
      "cell_type": "code",
      "execution_count": 16,
      "id": "2531d52c",
      "metadata": {
        "colab": {
          "base_uri": "https://localhost:8080/"
        },
        "id": "2531d52c",
        "outputId": "e7f7cc22-c10a-41d1-995e-8cceeac4bf8b"
      },
      "outputs": [
        {
          "output_type": "execute_result",
          "data": {
            "text/plain": [
              "array([[-1.8204219e+00,  2.5597849e+00, -1.2817980e+00, -2.9601930e-03],\n",
              "       [ 3.0643346e+00, -1.4684461e+00, -7.6688170e-01, -1.2438694e-01]],\n",
              "      dtype=float32)"
            ]
          },
          "metadata": {},
          "execution_count": 16
        }
      ],
      "source": [
        "predictions.logits"
      ]
    },
    {
      "cell_type": "code",
      "execution_count": 17,
      "id": "67aef028",
      "metadata": {
        "colab": {
          "base_uri": "https://localhost:8080/"
        },
        "id": "67aef028",
        "outputId": "04b61f3c-0864-4d7b-a568-3bf83b821aae"
      },
      "outputs": [
        {
          "output_type": "stream",
          "name": "stdout",
          "text": [
            "Poem: and be glad in the summer morning when the kindred ride on their way  Predicted: positive  | Actual Label: positive\n",
            "Poem: that sometime they put themself in danger  Predicted: negative  | Actual Label: negative\n"
          ]
        }
      ],
      "source": [
        "import numpy as np\n",
        "\n",
        "pred_label_ids = np.argmax(predictions.logits, axis=1)\n",
        "\n",
        "for i in range(len(pred_label_ids)):\n",
        "    print(\"Poem:\", infer_data[\"verse_text\"][i],\n",
        "          \" Predicted:\",labels.names[pred_label_ids[i]],\n",
        "          \" | Actual Label:\",labels.names[infer_data[\"label\"][i]])"
      ]
    }
  ],
  "metadata": {
    "accelerator": "GPU",
    "colab": {
      "gpuType": "T4",
      "provenance": []
    },
    "kernelspec": {
      "display_name": "Python 3",
      "name": "python3"
    },
    "language_info": {
      "codemirror_mode": {
        "name": "ipython",
        "version": 3
      },
      "file_extension": ".py",
      "mimetype": "text/x-python",
      "name": "python",
      "nbconvert_exporter": "python",
      "pygments_lexer": "ipython3",
      "version": "3.9.15"
    },
    "widgets": {
      "application/vnd.jupyter.widget-state+json": {
        "b6d95050821d45e297afc1bc638ab08f": {
          "model_module": "@jupyter-widgets/controls",
          "model_name": "HBoxModel",
          "model_module_version": "1.5.0",
          "state": {
            "_dom_classes": [],
            "_model_module": "@jupyter-widgets/controls",
            "_model_module_version": "1.5.0",
            "_model_name": "HBoxModel",
            "_view_count": null,
            "_view_module": "@jupyter-widgets/controls",
            "_view_module_version": "1.5.0",
            "_view_name": "HBoxView",
            "box_style": "",
            "children": [
              "IPY_MODEL_4e68103bd32e42c48375b6b420b35e0e",
              "IPY_MODEL_6345adc5ba344b239b4bd5ef4d8fb568",
              "IPY_MODEL_48892567902644ff93dc4a09865d090a"
            ],
            "layout": "IPY_MODEL_33a90580759b46978a95d94707715bb3"
          }
        },
        "4e68103bd32e42c48375b6b420b35e0e": {
          "model_module": "@jupyter-widgets/controls",
          "model_name": "HTMLModel",
          "model_module_version": "1.5.0",
          "state": {
            "_dom_classes": [],
            "_model_module": "@jupyter-widgets/controls",
            "_model_module_version": "1.5.0",
            "_model_name": "HTMLModel",
            "_view_count": null,
            "_view_module": "@jupyter-widgets/controls",
            "_view_module_version": "1.5.0",
            "_view_name": "HTMLView",
            "description": "",
            "description_tooltip": null,
            "layout": "IPY_MODEL_2d49ad8876df4617835e761e2cbaa3f4",
            "placeholder": "​",
            "style": "IPY_MODEL_423d2920c2a14d669819157912ffbaa1",
            "value": "model.safetensors: 100%"
          }
        },
        "6345adc5ba344b239b4bd5ef4d8fb568": {
          "model_module": "@jupyter-widgets/controls",
          "model_name": "FloatProgressModel",
          "model_module_version": "1.5.0",
          "state": {
            "_dom_classes": [],
            "_model_module": "@jupyter-widgets/controls",
            "_model_module_version": "1.5.0",
            "_model_name": "FloatProgressModel",
            "_view_count": null,
            "_view_module": "@jupyter-widgets/controls",
            "_view_module_version": "1.5.0",
            "_view_name": "ProgressView",
            "bar_style": "success",
            "description": "",
            "description_tooltip": null,
            "layout": "IPY_MODEL_d92e732968344cec960a3e98fdafa96f",
            "max": 267954768,
            "min": 0,
            "orientation": "horizontal",
            "style": "IPY_MODEL_2ce71a0892c0455591b6dce9135dd414",
            "value": 267954768
          }
        },
        "48892567902644ff93dc4a09865d090a": {
          "model_module": "@jupyter-widgets/controls",
          "model_name": "HTMLModel",
          "model_module_version": "1.5.0",
          "state": {
            "_dom_classes": [],
            "_model_module": "@jupyter-widgets/controls",
            "_model_module_version": "1.5.0",
            "_model_name": "HTMLModel",
            "_view_count": null,
            "_view_module": "@jupyter-widgets/controls",
            "_view_module_version": "1.5.0",
            "_view_name": "HTMLView",
            "description": "",
            "description_tooltip": null,
            "layout": "IPY_MODEL_0132da9962f7473aa4c1f1eddcf969b4",
            "placeholder": "​",
            "style": "IPY_MODEL_df5c5be664964d5e85f2c6cc6a8cb991",
            "value": " 268M/268M [00:01&lt;00:00, 113MB/s]"
          }
        },
        "33a90580759b46978a95d94707715bb3": {
          "model_module": "@jupyter-widgets/base",
          "model_name": "LayoutModel",
          "model_module_version": "1.2.0",
          "state": {
            "_model_module": "@jupyter-widgets/base",
            "_model_module_version": "1.2.0",
            "_model_name": "LayoutModel",
            "_view_count": null,
            "_view_module": "@jupyter-widgets/base",
            "_view_module_version": "1.2.0",
            "_view_name": "LayoutView",
            "align_content": null,
            "align_items": null,
            "align_self": null,
            "border": null,
            "bottom": null,
            "display": null,
            "flex": null,
            "flex_flow": null,
            "grid_area": null,
            "grid_auto_columns": null,
            "grid_auto_flow": null,
            "grid_auto_rows": null,
            "grid_column": null,
            "grid_gap": null,
            "grid_row": null,
            "grid_template_areas": null,
            "grid_template_columns": null,
            "grid_template_rows": null,
            "height": null,
            "justify_content": null,
            "justify_items": null,
            "left": null,
            "margin": null,
            "max_height": null,
            "max_width": null,
            "min_height": null,
            "min_width": null,
            "object_fit": null,
            "object_position": null,
            "order": null,
            "overflow": null,
            "overflow_x": null,
            "overflow_y": null,
            "padding": null,
            "right": null,
            "top": null,
            "visibility": null,
            "width": null
          }
        },
        "2d49ad8876df4617835e761e2cbaa3f4": {
          "model_module": "@jupyter-widgets/base",
          "model_name": "LayoutModel",
          "model_module_version": "1.2.0",
          "state": {
            "_model_module": "@jupyter-widgets/base",
            "_model_module_version": "1.2.0",
            "_model_name": "LayoutModel",
            "_view_count": null,
            "_view_module": "@jupyter-widgets/base",
            "_view_module_version": "1.2.0",
            "_view_name": "LayoutView",
            "align_content": null,
            "align_items": null,
            "align_self": null,
            "border": null,
            "bottom": null,
            "display": null,
            "flex": null,
            "flex_flow": null,
            "grid_area": null,
            "grid_auto_columns": null,
            "grid_auto_flow": null,
            "grid_auto_rows": null,
            "grid_column": null,
            "grid_gap": null,
            "grid_row": null,
            "grid_template_areas": null,
            "grid_template_columns": null,
            "grid_template_rows": null,
            "height": null,
            "justify_content": null,
            "justify_items": null,
            "left": null,
            "margin": null,
            "max_height": null,
            "max_width": null,
            "min_height": null,
            "min_width": null,
            "object_fit": null,
            "object_position": null,
            "order": null,
            "overflow": null,
            "overflow_x": null,
            "overflow_y": null,
            "padding": null,
            "right": null,
            "top": null,
            "visibility": null,
            "width": null
          }
        },
        "423d2920c2a14d669819157912ffbaa1": {
          "model_module": "@jupyter-widgets/controls",
          "model_name": "DescriptionStyleModel",
          "model_module_version": "1.5.0",
          "state": {
            "_model_module": "@jupyter-widgets/controls",
            "_model_module_version": "1.5.0",
            "_model_name": "DescriptionStyleModel",
            "_view_count": null,
            "_view_module": "@jupyter-widgets/base",
            "_view_module_version": "1.2.0",
            "_view_name": "StyleView",
            "description_width": ""
          }
        },
        "d92e732968344cec960a3e98fdafa96f": {
          "model_module": "@jupyter-widgets/base",
          "model_name": "LayoutModel",
          "model_module_version": "1.2.0",
          "state": {
            "_model_module": "@jupyter-widgets/base",
            "_model_module_version": "1.2.0",
            "_model_name": "LayoutModel",
            "_view_count": null,
            "_view_module": "@jupyter-widgets/base",
            "_view_module_version": "1.2.0",
            "_view_name": "LayoutView",
            "align_content": null,
            "align_items": null,
            "align_self": null,
            "border": null,
            "bottom": null,
            "display": null,
            "flex": null,
            "flex_flow": null,
            "grid_area": null,
            "grid_auto_columns": null,
            "grid_auto_flow": null,
            "grid_auto_rows": null,
            "grid_column": null,
            "grid_gap": null,
            "grid_row": null,
            "grid_template_areas": null,
            "grid_template_columns": null,
            "grid_template_rows": null,
            "height": null,
            "justify_content": null,
            "justify_items": null,
            "left": null,
            "margin": null,
            "max_height": null,
            "max_width": null,
            "min_height": null,
            "min_width": null,
            "object_fit": null,
            "object_position": null,
            "order": null,
            "overflow": null,
            "overflow_x": null,
            "overflow_y": null,
            "padding": null,
            "right": null,
            "top": null,
            "visibility": null,
            "width": null
          }
        },
        "2ce71a0892c0455591b6dce9135dd414": {
          "model_module": "@jupyter-widgets/controls",
          "model_name": "ProgressStyleModel",
          "model_module_version": "1.5.0",
          "state": {
            "_model_module": "@jupyter-widgets/controls",
            "_model_module_version": "1.5.0",
            "_model_name": "ProgressStyleModel",
            "_view_count": null,
            "_view_module": "@jupyter-widgets/base",
            "_view_module_version": "1.2.0",
            "_view_name": "StyleView",
            "bar_color": null,
            "description_width": ""
          }
        },
        "0132da9962f7473aa4c1f1eddcf969b4": {
          "model_module": "@jupyter-widgets/base",
          "model_name": "LayoutModel",
          "model_module_version": "1.2.0",
          "state": {
            "_model_module": "@jupyter-widgets/base",
            "_model_module_version": "1.2.0",
            "_model_name": "LayoutModel",
            "_view_count": null,
            "_view_module": "@jupyter-widgets/base",
            "_view_module_version": "1.2.0",
            "_view_name": "LayoutView",
            "align_content": null,
            "align_items": null,
            "align_self": null,
            "border": null,
            "bottom": null,
            "display": null,
            "flex": null,
            "flex_flow": null,
            "grid_area": null,
            "grid_auto_columns": null,
            "grid_auto_flow": null,
            "grid_auto_rows": null,
            "grid_column": null,
            "grid_gap": null,
            "grid_row": null,
            "grid_template_areas": null,
            "grid_template_columns": null,
            "grid_template_rows": null,
            "height": null,
            "justify_content": null,
            "justify_items": null,
            "left": null,
            "margin": null,
            "max_height": null,
            "max_width": null,
            "min_height": null,
            "min_width": null,
            "object_fit": null,
            "object_position": null,
            "order": null,
            "overflow": null,
            "overflow_x": null,
            "overflow_y": null,
            "padding": null,
            "right": null,
            "top": null,
            "visibility": null,
            "width": null
          }
        },
        "df5c5be664964d5e85f2c6cc6a8cb991": {
          "model_module": "@jupyter-widgets/controls",
          "model_name": "DescriptionStyleModel",
          "model_module_version": "1.5.0",
          "state": {
            "_model_module": "@jupyter-widgets/controls",
            "_model_module_version": "1.5.0",
            "_model_name": "DescriptionStyleModel",
            "_view_count": null,
            "_view_module": "@jupyter-widgets/base",
            "_view_module_version": "1.2.0",
            "_view_name": "StyleView",
            "description_width": ""
          }
        },
        "605859ba4ac94aa4a036925367d5b854": {
          "model_module": "@jupyter-widgets/controls",
          "model_name": "HBoxModel",
          "model_module_version": "1.5.0",
          "state": {
            "_dom_classes": [],
            "_model_module": "@jupyter-widgets/controls",
            "_model_module_version": "1.5.0",
            "_model_name": "HBoxModel",
            "_view_count": null,
            "_view_module": "@jupyter-widgets/controls",
            "_view_module_version": "1.5.0",
            "_view_name": "HBoxView",
            "box_style": "",
            "children": [
              "IPY_MODEL_aff622249a5148ef8f605ce98a5c4d95",
              "IPY_MODEL_59c795c2a0204151b77bafdf8d1aa58c",
              "IPY_MODEL_81c6b6503bab4e8b9a312a6d4d60f90b"
            ],
            "layout": "IPY_MODEL_3a393b95795f47209da279af8b6229d7"
          }
        },
        "aff622249a5148ef8f605ce98a5c4d95": {
          "model_module": "@jupyter-widgets/controls",
          "model_name": "HTMLModel",
          "model_module_version": "1.5.0",
          "state": {
            "_dom_classes": [],
            "_model_module": "@jupyter-widgets/controls",
            "_model_module_version": "1.5.0",
            "_model_name": "HTMLModel",
            "_view_count": null,
            "_view_module": "@jupyter-widgets/controls",
            "_view_module_version": "1.5.0",
            "_view_name": "HTMLView",
            "description": "",
            "description_tooltip": null,
            "layout": "IPY_MODEL_fd72db64c808493096cb3bd856565a46",
            "placeholder": "​",
            "style": "IPY_MODEL_fb3f6305fc9e454eb895a6a22427d871",
            "value": "Map: 100%"
          }
        },
        "59c795c2a0204151b77bafdf8d1aa58c": {
          "model_module": "@jupyter-widgets/controls",
          "model_name": "FloatProgressModel",
          "model_module_version": "1.5.0",
          "state": {
            "_dom_classes": [],
            "_model_module": "@jupyter-widgets/controls",
            "_model_module_version": "1.5.0",
            "_model_name": "FloatProgressModel",
            "_view_count": null,
            "_view_module": "@jupyter-widgets/controls",
            "_view_module_version": "1.5.0",
            "_view_name": "ProgressView",
            "bar_style": "success",
            "description": "",
            "description_tooltip": null,
            "layout": "IPY_MODEL_145ea38aba0640dca0850641235f23e8",
            "max": 2,
            "min": 0,
            "orientation": "horizontal",
            "style": "IPY_MODEL_a108a3b7fea748c98ee79dd69777ec5c",
            "value": 2
          }
        },
        "81c6b6503bab4e8b9a312a6d4d60f90b": {
          "model_module": "@jupyter-widgets/controls",
          "model_name": "HTMLModel",
          "model_module_version": "1.5.0",
          "state": {
            "_dom_classes": [],
            "_model_module": "@jupyter-widgets/controls",
            "_model_module_version": "1.5.0",
            "_model_name": "HTMLModel",
            "_view_count": null,
            "_view_module": "@jupyter-widgets/controls",
            "_view_module_version": "1.5.0",
            "_view_name": "HTMLView",
            "description": "",
            "description_tooltip": null,
            "layout": "IPY_MODEL_5b1641f13fc140b1aa15d42f021e4135",
            "placeholder": "​",
            "style": "IPY_MODEL_9ff5eb3d8efd4275955907e05167c301",
            "value": " 2/2 [00:00&lt;00:00, 93.13 examples/s]"
          }
        },
        "3a393b95795f47209da279af8b6229d7": {
          "model_module": "@jupyter-widgets/base",
          "model_name": "LayoutModel",
          "model_module_version": "1.2.0",
          "state": {
            "_model_module": "@jupyter-widgets/base",
            "_model_module_version": "1.2.0",
            "_model_name": "LayoutModel",
            "_view_count": null,
            "_view_module": "@jupyter-widgets/base",
            "_view_module_version": "1.2.0",
            "_view_name": "LayoutView",
            "align_content": null,
            "align_items": null,
            "align_self": null,
            "border": null,
            "bottom": null,
            "display": null,
            "flex": null,
            "flex_flow": null,
            "grid_area": null,
            "grid_auto_columns": null,
            "grid_auto_flow": null,
            "grid_auto_rows": null,
            "grid_column": null,
            "grid_gap": null,
            "grid_row": null,
            "grid_template_areas": null,
            "grid_template_columns": null,
            "grid_template_rows": null,
            "height": null,
            "justify_content": null,
            "justify_items": null,
            "left": null,
            "margin": null,
            "max_height": null,
            "max_width": null,
            "min_height": null,
            "min_width": null,
            "object_fit": null,
            "object_position": null,
            "order": null,
            "overflow": null,
            "overflow_x": null,
            "overflow_y": null,
            "padding": null,
            "right": null,
            "top": null,
            "visibility": null,
            "width": null
          }
        },
        "fd72db64c808493096cb3bd856565a46": {
          "model_module": "@jupyter-widgets/base",
          "model_name": "LayoutModel",
          "model_module_version": "1.2.0",
          "state": {
            "_model_module": "@jupyter-widgets/base",
            "_model_module_version": "1.2.0",
            "_model_name": "LayoutModel",
            "_view_count": null,
            "_view_module": "@jupyter-widgets/base",
            "_view_module_version": "1.2.0",
            "_view_name": "LayoutView",
            "align_content": null,
            "align_items": null,
            "align_self": null,
            "border": null,
            "bottom": null,
            "display": null,
            "flex": null,
            "flex_flow": null,
            "grid_area": null,
            "grid_auto_columns": null,
            "grid_auto_flow": null,
            "grid_auto_rows": null,
            "grid_column": null,
            "grid_gap": null,
            "grid_row": null,
            "grid_template_areas": null,
            "grid_template_columns": null,
            "grid_template_rows": null,
            "height": null,
            "justify_content": null,
            "justify_items": null,
            "left": null,
            "margin": null,
            "max_height": null,
            "max_width": null,
            "min_height": null,
            "min_width": null,
            "object_fit": null,
            "object_position": null,
            "order": null,
            "overflow": null,
            "overflow_x": null,
            "overflow_y": null,
            "padding": null,
            "right": null,
            "top": null,
            "visibility": null,
            "width": null
          }
        },
        "fb3f6305fc9e454eb895a6a22427d871": {
          "model_module": "@jupyter-widgets/controls",
          "model_name": "DescriptionStyleModel",
          "model_module_version": "1.5.0",
          "state": {
            "_model_module": "@jupyter-widgets/controls",
            "_model_module_version": "1.5.0",
            "_model_name": "DescriptionStyleModel",
            "_view_count": null,
            "_view_module": "@jupyter-widgets/base",
            "_view_module_version": "1.2.0",
            "_view_name": "StyleView",
            "description_width": ""
          }
        },
        "145ea38aba0640dca0850641235f23e8": {
          "model_module": "@jupyter-widgets/base",
          "model_name": "LayoutModel",
          "model_module_version": "1.2.0",
          "state": {
            "_model_module": "@jupyter-widgets/base",
            "_model_module_version": "1.2.0",
            "_model_name": "LayoutModel",
            "_view_count": null,
            "_view_module": "@jupyter-widgets/base",
            "_view_module_version": "1.2.0",
            "_view_name": "LayoutView",
            "align_content": null,
            "align_items": null,
            "align_self": null,
            "border": null,
            "bottom": null,
            "display": null,
            "flex": null,
            "flex_flow": null,
            "grid_area": null,
            "grid_auto_columns": null,
            "grid_auto_flow": null,
            "grid_auto_rows": null,
            "grid_column": null,
            "grid_gap": null,
            "grid_row": null,
            "grid_template_areas": null,
            "grid_template_columns": null,
            "grid_template_rows": null,
            "height": null,
            "justify_content": null,
            "justify_items": null,
            "left": null,
            "margin": null,
            "max_height": null,
            "max_width": null,
            "min_height": null,
            "min_width": null,
            "object_fit": null,
            "object_position": null,
            "order": null,
            "overflow": null,
            "overflow_x": null,
            "overflow_y": null,
            "padding": null,
            "right": null,
            "top": null,
            "visibility": null,
            "width": null
          }
        },
        "a108a3b7fea748c98ee79dd69777ec5c": {
          "model_module": "@jupyter-widgets/controls",
          "model_name": "ProgressStyleModel",
          "model_module_version": "1.5.0",
          "state": {
            "_model_module": "@jupyter-widgets/controls",
            "_model_module_version": "1.5.0",
            "_model_name": "ProgressStyleModel",
            "_view_count": null,
            "_view_module": "@jupyter-widgets/base",
            "_view_module_version": "1.2.0",
            "_view_name": "StyleView",
            "bar_color": null,
            "description_width": ""
          }
        },
        "5b1641f13fc140b1aa15d42f021e4135": {
          "model_module": "@jupyter-widgets/base",
          "model_name": "LayoutModel",
          "model_module_version": "1.2.0",
          "state": {
            "_model_module": "@jupyter-widgets/base",
            "_model_module_version": "1.2.0",
            "_model_name": "LayoutModel",
            "_view_count": null,
            "_view_module": "@jupyter-widgets/base",
            "_view_module_version": "1.2.0",
            "_view_name": "LayoutView",
            "align_content": null,
            "align_items": null,
            "align_self": null,
            "border": null,
            "bottom": null,
            "display": null,
            "flex": null,
            "flex_flow": null,
            "grid_area": null,
            "grid_auto_columns": null,
            "grid_auto_flow": null,
            "grid_auto_rows": null,
            "grid_column": null,
            "grid_gap": null,
            "grid_row": null,
            "grid_template_areas": null,
            "grid_template_columns": null,
            "grid_template_rows": null,
            "height": null,
            "justify_content": null,
            "justify_items": null,
            "left": null,
            "margin": null,
            "max_height": null,
            "max_width": null,
            "min_height": null,
            "min_width": null,
            "object_fit": null,
            "object_position": null,
            "order": null,
            "overflow": null,
            "overflow_x": null,
            "overflow_y": null,
            "padding": null,
            "right": null,
            "top": null,
            "visibility": null,
            "width": null
          }
        },
        "9ff5eb3d8efd4275955907e05167c301": {
          "model_module": "@jupyter-widgets/controls",
          "model_name": "DescriptionStyleModel",
          "model_module_version": "1.5.0",
          "state": {
            "_model_module": "@jupyter-widgets/controls",
            "_model_module_version": "1.5.0",
            "_model_name": "DescriptionStyleModel",
            "_view_count": null,
            "_view_module": "@jupyter-widgets/base",
            "_view_module_version": "1.2.0",
            "_view_name": "StyleView",
            "description_width": ""
          }
        }
      }
    }
  },
  "nbformat": 4,
  "nbformat_minor": 5
}